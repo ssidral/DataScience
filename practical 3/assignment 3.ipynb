{
 "cells": [
  {
   "cell_type": "code",
   "execution_count": 6,
   "id": "bded8b8c",
   "metadata": {},
   "outputs": [
    {
     "name": "stdout",
     "output_type": "stream",
     "text": [
      "Authentication OK\n",
      "0 number of statuses have been fetched.\n"
     ]
    }
   ],
   "source": [
    "import tweepy\n",
    "consumer_key= 'fyxrmHEi2IJpO1soBWvuo1Yvk'\n",
    "consumer_secret= 'lCna4A6srNktGknDSeXLCtIDnQX31C9yBlgnsMsbfwED29oPPf'\n",
    "access_token= '1455994280137220099-X76F8EbDOsvIMOTCYq1KpuUp8o5aAO'\n",
    "access_token_secret= 'po6HLUuPmRMlkrdEGoYVZAeC4LqF2gMBZQ08WzYm3bhu9'\n",
    "\n",
    "auth = tweepy.OAuthHandler(consumer_key, consumer_secret)\n",
    "  \n",
    "# set access to user's access key and access secret \n",
    "auth.set_access_token(access_token, access_token_secret)\n",
    "api = tweepy.API(auth)\n",
    "screen_name = \"geeksforgeeks\"\n",
    "  \n",
    "\n",
    "try:\n",
    "    api.verify_credentials()\n",
    "    print(\"Authentication OK\")\n",
    "except:\n",
    "    print(\"Error during authentication\")\n",
    "    \n",
    "#screen_name = \"geeksforgeeks\"\n",
    "  \n",
    "# fetching the statuses\n",
    "statuses = api.user_timeline()\n",
    "  \n",
    "print(str(len(statuses)) + \" number of statuses have been fetched.\")\n"
   ]
  },
  {
   "cell_type": "code",
   "execution_count": 63,
   "id": "704cefad",
   "metadata": {
    "scrolled": true
   },
   "outputs": [
    {
     "name": "stdout",
     "output_type": "stream",
     "text": [
      "You got this!\n",
      "1\n",
      "2\n",
      "3\n",
      "4\n",
      "5\n",
      "6\n",
      "7\n",
      "8\n",
      "9\n",
      "10\n"
     ]
    }
   ],
   "source": [
    "from tweepy import OAuthHandler\n",
    "import pandas as pd\n",
    "from pandas import ExcelWriter\n",
    "\"\"\"I like to have my python script print a message at the beginning. This helps me confirm whether everything is set up correctly. And it's nice to get an uplifting message ;).\"\"\"\n",
    "\n",
    "print(\"You got this!\")\n",
    "\n",
    "consumer_key= 'fyxrmHEi2IJpO1soBWvuo1Yvk'\n",
    "consumer_secret= 'lCna4A6srNktGknDSeXLCtIDnQX31C9yBlgnsMsbfwED29oPPf'\n",
    "access_token= '1455994280137220099-X76F8EbDOsvIMOTCYq1KpuUp8o5aAO'\n",
    "access_token_secret= 'po6HLUuPmRMlkrdEGoYVZAeC4LqF2gMBZQ08WzYm3bhu9'\n",
    "\n",
    "auth = tweepy.OAuthHandler(consumer_key, consumer_secret)\n",
    "auth.set_access_token(access_token, access_token_secret)\n",
    "\n",
    "api = tweepy.API(auth)\n",
    "\n",
    "tweets = []\n",
    "\n",
    "count = 1\n",
    "\n",
    "\"\"\"Twitter will automatically sample the last 7 days of data. Depending on how many total tweets there are with the specific hashtag, keyword, handle, or key phrase that you are looking for, you can set the date back further by adding since= as one of the parameters. You can also manually add in the number of tweets you want to get back in the items() section.\"\"\"\n",
    "\n",
    "for tweet in tweepy.Cursor(api.search_tweets, q=\"@narendramodi\", count=10).items(10):\n",
    "    \n",
    "    print(count)\n",
    "    count += 1\n",
    "\n",
    "    try: \n",
    "        data = [ tweet.created_at, tweet.id, tweet.text, tweet.user._json['screen_name'], tweet.user._json['name'],  tweet.user._json['created_at'],tweet.entities['urls']]\n",
    "        data = tuple(data)\n",
    "        tweets.append(data)\n",
    "\n",
    "    except tweepy.TweepError as e:\n",
    "        print(e.reason)\n",
    "        continue\n",
    "\n",
    "    except StopIteration:\n",
    "        break\n",
    "\n",
    "df = pd.DataFrame(tweets, columns = ['created_at','tweet_id', 'tweet_text', 'screen_name', 'name','account_creation_date','urls'])\n",
    "\n",
    "\"\"\"Add the path to the folder you want to save the CSV file in as well as what you want the CSV file to be named inside the single quotations\"\"\"\n",
    "df.to_csv(path_or_buf = 'FileName.csv', index=True)\n",
    "#df.to_excel(\"output.xlsx\",encoding='UTF-8')\n",
    "#writer = ExcelWriter('Ocelot_Export.xlsx')\n",
    "#df.to_excel(writer, encoding='utf8', index=False,merge_cells=True)\n",
    "#writer.save()"
   ]
  },
  {
   "cell_type": "code",
   "execution_count": 29,
   "id": "aca31f0d",
   "metadata": {},
   "outputs": [],
   "source": [
    "import pandas"
   ]
  }
 ],
 "metadata": {
  "kernelspec": {
   "display_name": "Python 3 (ipykernel)",
   "language": "python",
   "name": "python3"
  },
  "language_info": {
   "codemirror_mode": {
    "name": "ipython",
    "version": 3
   },
   "file_extension": ".py",
   "mimetype": "text/x-python",
   "name": "python",
   "nbconvert_exporter": "python",
   "pygments_lexer": "ipython3",
   "version": "3.9.7"
  }
 },
 "nbformat": 4,
 "nbformat_minor": 5
}
