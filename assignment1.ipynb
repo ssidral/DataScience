{
 "cells": [
  {
   "cell_type": "code",
   "execution_count": 126,
   "id": "f49efad9",
   "metadata": {},
   "outputs": [],
   "source": [
    "import requests\n",
    "from bs4 import BeautifulSoup\n",
    "import csv\n",
    "import pandas as pd\n",
    "   \n",
    "URL = \"https://www.macrotrends.net/countries/IND/india/population\"\n",
    "r = requests.get(URL)\n",
    "   \n",
    "soup = BeautifulSoup(r.content, 'html5lib')\n",
    "\n",
    "table=soup.find_all(class_= \"historical_data_table table table-striped table-bordered\")\n",
    "\n",
    "a=table[1]\n",
    "years=[]\n",
    "pop=[]\n",
    "growth=[]\n",
    "\n",
    "b=a.find_all('td')\n",
    "for i in range(0,len(b),3):\n",
    "    years.append(int(b[i].get_text()))\n",
    "    pop.append(int(b[i+1].get_text().replace(\",\",\"\")))\n",
    "    growth.append(float(b[i+2].get_text().replace(\"%\",\"\")))\n",
    "    \n",
    "#print(years)\n",
    "#print(pop)\n",
    "#print(growth)\n",
    "\n",
    "data=[]\n",
    "data.append(years)\n",
    "data.append(pop)\n",
    "data.append(growth)\n",
    "df = pd.DataFrame(data).transpose()\n",
    "df.columns=['year','population','growth']\n",
    "df['year']=df['year'].astype(int)\n",
    "df.to_csv(\"population.csv\",index=False)"
   ]
  },
  {
   "cell_type": "code",
   "execution_count": null,
   "id": "5c1deffa",
   "metadata": {},
   "outputs": [],
   "source": []
  },
  {
   "cell_type": "code",
   "execution_count": null,
   "id": "6d27ffae",
   "metadata": {},
   "outputs": [],
   "source": []
  }
 ],
 "metadata": {
  "kernelspec": {
   "display_name": "Python 3 (ipykernel)",
   "language": "python",
   "name": "python3"
  },
  "language_info": {
   "codemirror_mode": {
    "name": "ipython",
    "version": 3
   },
   "file_extension": ".py",
   "mimetype": "text/x-python",
   "name": "python",
   "nbconvert_exporter": "python",
   "pygments_lexer": "ipython3",
   "version": "3.9.7"
  }
 },
 "nbformat": 4,
 "nbformat_minor": 5
}
