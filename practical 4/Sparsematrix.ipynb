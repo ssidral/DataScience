{
 "cells": [
  {
   "cell_type": "code",
   "execution_count": 3,
   "metadata": {},
   "outputs": [
    {
     "name": "stdout",
     "output_type": "stream",
     "text": [
      "[[0 0 0 0]\n",
      " [0 0 0 0]\n",
      " [0 0 0 0]]\n"
     ]
    }
   ],
   "source": [
    "import numpy as np\n",
    "from scipy.sparse import csr_matrix\n",
    "  \n",
    "sparseMatrix = csr_matrix((3, 4), \n",
    "                          dtype = np.int8).toarray()\n",
    "  \n",
    "print(sparseMatrix)"
   ]
  },
  {
   "cell_type": "code",
   "execution_count": 7,
   "metadata": {},
   "outputs": [
    {
     "name": "stdout",
     "output_type": "stream",
     "text": [
      "[[ 1  4  0]\n",
      " [ 8  0 11]\n",
      " [ 0  0  9]]\n"
     ]
    }
   ],
   "source": [
    " row = np.array([0, 0, 1, 1, 2, 1])\n",
    " col = np.array([0, 1, 2, 0, 2, 2])\n",
    "  \n",
    " data = np.array([1, 4, 5, 8, 9, 6])\n",
    "  \n",
    " sparseMatrix = csr_matrix((data, (row, col)), \n",
    "                          shape = (3, 3)).toarray()\n",
    "\n",
    "    \n",
    " print(sparseMatrix)"
   ]
  },
  {
   "cell_type": "code",
   "execution_count": null,
   "metadata": {},
   "outputs": [],
   "source": []
  }
 ],
 "metadata": {
  "kernelspec": {
   "display_name": "Python 3",
   "language": "python",
   "name": "python3"
  },
  "language_info": {
   "codemirror_mode": {
    "name": "ipython",
    "version": 3
   },
   "file_extension": ".py",
   "mimetype": "text/x-python",
   "name": "python",
   "nbconvert_exporter": "python",
   "pygments_lexer": "ipython3",
   "version": "3.7.3"
  }
 },
 "nbformat": 4,
 "nbformat_minor": 2
}
